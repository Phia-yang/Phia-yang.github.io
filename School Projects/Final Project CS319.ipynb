{
 "cells": [
  {
   "cell_type": "markdown",
   "id": "fd745999-1edf-463c-9646-ddd3de49785b",
   "metadata": {},
   "source": [
    "# Rec Well User data from Fall 2022 to Summer 2024\n",
    "\n",
    "Rec Well, the organization that manages the recreational facilities such as the Nick and Bakke, has a wealth of data from their database. With the completion of Bakke in April 2023, Rec Well wants to see how users are using the Nick and Bakke facilities. \n",
    "\n",
    "* How many students are they serving?\n",
    "* How many different users participate in different programs?\n",
    "* Which building does a certain group go to?\n",
    "\n",
    "These are the questions that we will want to answer. Their database (called Fusion) stores all this data, but we need to visualize the data to get a proper grasp of how different numbers compare with each other.\n",
    "\n",
    "\n",
    "\n",
    "# Data Background\n",
    "Users that visit Rec Well are often students, but they also service a wider community. Users that they have categorized in their database are separated into different groups, such as Community Members, Graduate Students, Campus Affiliates, Day/Week User, and more. From these different user types, we want to figure out several different things from them. These can include:\n",
    "\n",
    "* Facilities they go to\n",
    "* Programs they enroll in (yoga, ice skating lessons, cooking lessons, etc.)\n",
    "* The date range of their membership date\n",
    "\n",
    "The data that we have recieved from Rec Well contains all the facility accesses. They have also given us files for each program, but can contain inconsistencies on how the data is structured. In the end, we want to see a user and how that individual has interacted with the facilities and programs. In short, we will want a master file where each row will contain \n",
    "\n",
    "* a user ID\n",
    "* their membership type\n",
    "* their active membership date\n",
    "* number of check ins at Rec Well facilities\n",
    "* and the number of participations in programs"
   ]
  },
  {
   "cell_type": "code",
   "execution_count": null,
   "id": "49a824f0-0c23-4cf2-99e7-6d269eeb56cd",
   "metadata": {},
   "outputs": [],
   "source": [
    "import pandas as pd"
   ]
  },
  {
   "cell_type": "markdown",
   "id": "0a3959d9-8ea6-4c0d-9a40-259a5b498647",
   "metadata": {},
   "source": [
    "# Question 1\n",
    "\n",
    "First we'll work with the facility access data. Their data begins in Fall 2022. Each semester is divided into its own file up until Summer 2024. Everytime a person scans in at the entrance of the recreational facility, their identification, membership, and time stamp are all recorded. Let's load the CSV's and examine how the data is structured."
   ]
  },
  {
   "cell_type": "code",
   "execution_count": null,
   "id": "7def8e8d-9bac-4f61-959d-df8edde0c6c0",
   "metadata": {},
   "outputs": [],
   "source": [
    "df_fall22 = pd.read_csv('access_fall22.csv')\n",
    "df_fall23 = pd.read_csv('access_fall23.csv')\n",
    "df_spring23 = pd.read_csv('access_spring23.csv')\n",
    "df_spring24 = pd.read_csv('access_spring24.csv')\n",
    "df_summer23 = pd.read_csv('access_summer23.csv')\n",
    "df_summer24 = pd.read_csv('access_summer24.csv')\n"
   ]
  },
  {
   "cell_type": "markdown",
   "id": "338ab68b-44ea-4c53-92e0-8e95f9495553",
   "metadata": {},
   "source": [
    "This shows us that the files contain identifiying information like an `ID_NUMBER`, `FIRST_NAME` and `LAST_NAME`, `EMAIL_ADDRESSES` and `EXTERNAL_ID_NUMBERS`. `ID_NUMBER` is how their database uniquely identifies their users. First off, we will prep the files to be merged all together. Lets look at the value counts for the facilities. "
   ]
  },
  {
   "cell_type": "code",
   "execution_count": null,
   "id": "9e25e7f9-4b08-42de-8d78-bb5f1154ab7d",
   "metadata": {},
   "outputs": [],
   "source": [
    "df_fall22['FACILITY_NAME'].value_counts()\n",
    "df_spring24['FACILITY_NAME'].value_counts()"
   ]
  },
  {
   "cell_type": "markdown",
   "id": "76f3958f-3c69-4b09-8c5b-1efedac6e1ff",
   "metadata": {},
   "source": [
    "The `Nick - Fitness Tablets`, `Nick - Welcome Desk`, and `Nick - Wellbeing Services 124` should all be considered as a single facility called `Nick` in `df_fall22`. Likewise, `Bakke - Welcome Desk`, `Bakke - Fitness Tablets`, `Bakke - Member Services` and `Bakke - Wolf Teaching Kitchen` should all be named to simply `Bakke`. However, `Bakke - Sub-Zero Ice Center` and `Bakke - Mt. Mendota` should be kept separately as those entries can only be tracked by this facility access file. \n",
    "\n",
    "Create a function that will consolidate these the fields into `Nick` and `Bakke` respectively while not touching `Bakke - Sub-Zero Ice Center` and `Bakke - Mt. Mendota` for each dataframe."
   ]
  },
  {
   "cell_type": "code",
   "execution_count": null,
   "id": "3e6f4842-1c05-445b-a31a-311ac476604b",
   "metadata": {},
   "outputs": [],
   "source": [
    "def locations_processed(df, column_name):\n",
    "    unchanged_values = ['Bakke - Mt. Mendota', 'Bakke - Sub-Zero Ice Center', 'Nielsen Tennis Stadium', 'Camp Randall Sports Center (The SHELL)']\n",
    "    df[column_name] = df[column_name].apply(lambda x: 'Bakke' if 'Bakke' in x and x not in unchanged_values \n",
    "                                            else ('Nick' if 'Nick' in x or 'Nicholas' in x else x))\n",
    "    return df\n",
    "\n",
    "df_fall22 = locations_processed(df_fall22, 'FACILITY_NAME')\n",
    "df_fall23 = locations_processed(df_fall23, 'FACILITY_NAME')\n",
    "df_spring23 = locations_processed(df_spring23, 'FACILITY_NAME')\n",
    "df_spring24= locations_processed(df_spring24, 'FACILITY_NAME')\n",
    "df_summer23= locations_processed(df_summer23, 'FACILITY_NAME')\n",
    "df_summer24= locations_processed(df_summer24, 'FACILITY_NAME')"
   ]
  },
  {
   "cell_type": "markdown",
   "id": "fa4ad5d7-9a0d-4ceb-9495-9917e4209153",
   "metadata": {},
   "source": [
    "# Question 2\n",
    "\n",
    "Let's test if the function properly worked. Save the `value_counts()` of facilities in`df_spring24` to a variable `locations_check`. The value for the `Nick` should be 514479 and the `Bakke` should be 340415"
   ]
  },
  {
   "cell_type": "code",
   "execution_count": null,
   "id": "39034345-7d09-480a-b75a-7b62881e2a5f",
   "metadata": {},
   "outputs": [],
   "source": [
    "locations_check = df_spring24['FACILITY_NAME'].value_counts()\n",
    "locations_check"
   ]
  },
  {
   "cell_type": "markdown",
   "id": "a6336641-4fcb-46ce-a6df-52524494c2dd",
   "metadata": {},
   "source": [
    "# Question 3\n",
    "\n",
    "Next we will load the Membership file. This file contains every person that has entered in the facilities and what their membership is. This file was already consolidated through the SQL query used to generate it. Let's load it, then view the different types of memberships. Also, note that there are `Start_Date` and `End_Date` columns in the dataset, in contrast to the facility access file's `CREATION_TIMESTAMP`"
   ]
  },
  {
   "cell_type": "code",
   "execution_count": null,
   "id": "0f3ba050-95d2-446f-a838-ad9cd69f0e80",
   "metadata": {},
   "outputs": [],
   "source": [
    "df_member=pd.read_csv('all_memberships.csv')\n"
   ]
  },
  {
   "cell_type": "markdown",
   "id": "288a2c46-28f5-4224-ad3c-707e1f445953",
   "metadata": {},
   "source": [
    "For each of our facility access dataframes, we will be compiling them and adding them to the membership file. This means that if they have entered the Bakke 50 times in a semester (which means 50 rows in the facility access dataframes), then there will be a tally of 50. We also need to take into account of the date. If the user was a part time student but dropped mid-way in a semester and then became a community member, then we need to take their membership dates into account. \n",
    "\n",
    "We will create a function that will perform this action for all the dataframes. \n",
    "\n",
    "\n",
    "The first step we will do is handling the dates. Create a function to check if the `CREATION_TIMESTAMP` lies between one of the user's `Start_Date` and `End_Date` (convert to datetime to compare) after performing an inner merge from the membership dataframe to the access dataframe to gather the accesses that are valid. This will only be the initial step of the function and we will be adding more onto it.\n",
    "\n",
    "*Note*: entries in the `End_Date` column can be empty. This is because they can still be active users, so they do not have an end date! We must accomodate for this when comparing the dates. Since they are still currently active users, we will set their date to be a very far year in the future, and will revert it later. For example, it can look like this:`pd.Timestamp('2262-04-11')`\n"
   ]
  },
  {
   "cell_type": "code",
   "execution_count": null,
   "id": "2ba98757-daec-48ca-8fed-9a2c318dd9e6",
   "metadata": {},
   "outputs": [],
   "source": [
    "def merging_df(access_df, memberships_df): \n",
    "    memberships_df['Start_Date'] = pd.to_datetime(memberships_df['Start_Date'], format='mixed')\n",
    "    memberships_df['End_Date'] = pd.to_datetime(memberships_df['End_Date'], format='mixed')\n",
    "    access_df['CREATION_TIMESTAMP'] = pd.to_datetime(access_df['CREATION_TIMESTAMP'], format='mixed')\n",
    "    memberships_df['End_Date']=memberships_df['End_Date'].fillna(pd.Timestamp('2262-04-11'))\n",
    "\n",
    "    merged_df = access_df.merge(memberships_df, on='ID_NUMBER', how='inner')\n",
    "    \n",
    "    valid_access = merged_df[(merged_df['CREATION_TIMESTAMP']>= merged_df['Start_Date']) &\n",
    "        (merged_df['CREATION_TIMESTAMP']<= merged_df['End_Date'])]\n",
    "    return valid_access\n",
    "\n",
    "merging_df(df_fall22, df_member)\n",
    "    "
   ]
  },
  {
   "cell_type": "markdown",
   "id": "3ed67398-c89c-40e3-bca6-154e7de0b85c",
   "metadata": {},
   "source": [
    "# Question 4\n",
    "\n",
    "Now we will be counting accesses per membership period and facility. We will have to use the `groupby()` function to group the data and count it. After we generate a count, we need to pivot the table so that the column names will be the `FACILITY_NAME` and our index will be `ID_Number`, `Start_Date`, `End_Date`, and `Membership L2`.\n",
    "\n",
    "After this, we will be merging the pivoted dataframe onto the `membership_df` on `ID_NUMBER`, `Start_Date`, `End_Date`, `Membership_L2` columns. This will generate new columns in the dataframe, so we should distinguish the new columns with something (example: `'_new'`)\n",
    "\n",
    "We will be adding onto the previous function since we are performing merges and do not want to replicate merges."
   ]
  },
  {
   "cell_type": "code",
   "execution_count": null,
   "id": "b08c8ca6-f04c-4b54-9369-87af0339dd25",
   "metadata": {},
   "outputs": [],
   "source": [
    "def merging_df(access_df, memberships_df, access_count_col='Access_Count'):\n",
    "    memberships_df['Start_Date'] = pd.to_datetime(memberships_df['Start_Date'],format='mixed')\n",
    "    memberships_df['End_Date'] = pd.to_datetime(memberships_df['End_Date'], format='mixed')\n",
    "    access_df['CREATION_TIMESTAMP'] = pd.to_datetime(access_df['CREATION_TIMESTAMP'], format='mixed')\n",
    "    memberships_df['End_Date']=memberships_df['End_Date'].fillna(pd.Timestamp('2262-04-11'))\n",
    "\n",
    "    merged_df = access_df.merge(memberships_df, on='ID_NUMBER', how='inner')\n",
    "    \n",
    "    valid_access = merged_df[(merged_df['CREATION_TIMESTAMP']>= merged_df['Start_Date']) &\n",
    "        (merged_df['CREATION_TIMESTAMP']<= merged_df['End_Date'])]\n",
    "    \n",
    "##########################\n",
    "    \n",
    "    access_counts = valid_access.groupby(['ID_NUMBER','Start_Date', 'End_Date', 'Membership_L2', 'FACILITY_NAME']).size().reset_index(name=access_count_col)\n",
    "    pivoted_access_counts = access_counts.pivot_table(\n",
    "        index = ['ID_NUMBER', 'Start_Date', 'End_Date', 'Membership_L2'],\n",
    "        columns = 'FACILITY_NAME',\n",
    "        values=access_count_col,\n",
    "        fill_value=0).add_suffix(\"_new\").reset_index()\n",
    "    \n",
    "    merged_access_counts=memberships_df.merge(pivoted_access_counts,\n",
    "                                              on=['ID_NUMBER', 'Start_Date', 'End_Date', 'Membership_L2'],\n",
    "                                              how='left').fillna(0)\n",
    "    return merged_access_counts\n",
    "                                              \n",
    "merging_df(df_fall22, df_member)\n",
    "\n"
   ]
  },
  {
   "cell_type": "markdown",
   "id": "b95a6b2b-cd78-4268-acdf-e6955d2fe66d",
   "metadata": {},
   "source": [
    "# Question 5\n",
    "\n",
    "Now we will be finishing the merge. For each facility name, we want a column to be created in the final merged df and for them to be integers. If the column already exists, we want to columns to be added. If it does not exist, we want the column to be created and add the sum of the facility access into the column. We also want to drop the new columns(the ones with the suffix `_new`) so that it will make it easier to read and properly sum our totals.\n",
    "\n",
    "In addition, we will be reverting the `End_Date` back to the be `NaT` for the ones that we changed to be `2262-04-11`. Use the function to combine all the access files (eg. `df_fall22`) into the membership file (`df_member`) sequentially and save them in a vairable `new_df`"
   ]
  },
  {
   "cell_type": "code",
   "execution_count": null,
   "id": "88bc3cf7-83b1-4041-b10a-dca340cf2350",
   "metadata": {},
   "outputs": [],
   "source": [
    "def merging_df(access_df, memberships_df, access_count_col='Access_Count'):\n",
    "    memberships_df['Start_Date'] = pd.to_datetime(memberships_df['Start_Date'], format='mixed')\n",
    "    memberships_df['End_Date'] = pd.to_datetime(memberships_df['End_Date'], format='mixed')\n",
    "    access_df['CREATION_TIMESTAMP'] = pd.to_datetime(access_df['CREATION_TIMESTAMP'], format='mixed')\n",
    "    memberships_df['End_Date']=memberships_df['End_Date'].fillna(pd.Timestamp('2262-04-11'))\n",
    "\n",
    "    merged_df = access_df.merge(memberships_df, on='ID_NUMBER', how='inner')\n",
    "    \n",
    "    valid_access = merged_df[(merged_df['CREATION_TIMESTAMP']>= merged_df['Start_Date']) &\n",
    "        (merged_df['CREATION_TIMESTAMP']<= merged_df['End_Date'])]\n",
    "    \n",
    "##########################\n",
    "    \n",
    "    access_counts = valid_access.groupby(['ID_NUMBER','Start_Date', 'End_Date', 'Membership_L2', 'FACILITY_NAME']).size().reset_index(name=access_count_col)\n",
    "    pivoted_access_counts = access_counts.pivot_table(\n",
    "        index = ['ID_NUMBER', 'Start_Date', 'End_Date', 'Membership_L2'],\n",
    "        columns = 'FACILITY_NAME',\n",
    "        values=access_count_col,\n",
    "        fill_value=0).add_suffix(\"_new\").reset_index()\n",
    "    \n",
    "    merged_access_counts = memberships_df.merge(pivoted_access_counts,\n",
    "                                              on=['ID_NUMBER', 'Start_Date', 'End_Date', 'Membership_L2'],\n",
    "                                              how='left').fillna(0)\n",
    "\n",
    "##############################\n",
    "                                            \n",
    "    facility_names = access_df['FACILITY_NAME'].unique()     \n",
    "\n",
    "    for col in facility_names:\n",
    "        if col in merged_access_counts.columns:\n",
    "            merged_access_counts[col] += merged_access_counts[f\"{col}_new\"]\n",
    "        else:\n",
    "\n",
    "            merged_access_counts[col] = merged_access_counts[f\"{col}_new\"]\n",
    "        merged_access_counts.drop(columns = [f\"{col}_new\"], inplace=True)\n",
    "            \n",
    "    merged_access_counts['End_Date'] = merged_access_counts['End_Date'].replace(pd.Timestamp('2262-04-11'), pd.NaT)\n",
    "\n",
    "    merged_access_counts[facility_names]=merged_access_counts[facility_names].astype(int)\n",
    "    return merged_access_counts\n",
    "\n",
    "new_df=merging_df(df_fall22, df_member)\n",
    "new_df=merging_df(df_spring23, new_df)\n",
    "new_df=merging_df(df_summer23, new_df)\n",
    "new_df=merging_df(df_fall23, new_df)\n",
    "new_df=merging_df(df_spring24, new_df)\n",
    "new_df=merging_df(df_summer24, new_df)\n",
    "new_df\n",
    "\n"
   ]
  },
  {
   "cell_type": "markdown",
   "id": "e64c2d7c-06f6-4c06-a7cf-f097183c8b52",
   "metadata": {},
   "source": [
    "# Question 6\n",
    "\n",
    "Next we will be loading the programs into the kernel and be merging these files with the file that we have just created. This file is has several sheets for each different semester so we'll be reading the csv by sheet. The end result will look similar to what we have created, a tally of all the times that a user has participated in a certain program or activity. Load all the sheets for each semester (fall 2022, spring 2023, summer 2023, fall 2023, spring 2024, summer 2024) and rename the columns `Id Number` to be `ID_NUMBER` and `Date/Time Registered` to `Date Registered` for consistence and clarity. In addition, we'll load in a csv file that contains all the programs to include in this merged dataframe"
   ]
  },
  {
   "cell_type": "code",
   "execution_count": null,
   "id": "f9e356ee-49fd-4f8d-bf52-12e9aee6610b",
   "metadata": {},
   "outputs": [],
   "source": [
    "programs_fall22= pd.read_csv(\"Fusion Fall 2022.csv\")\n",
    "programs_spring23= pd.read_csv(\"Fusion Spring 2023.csv\")\n",
    "programs_summer23=pd.read_excel(\"Data - Fusion Program Registration (Summer 23 - Summer 24).xlsx\", sheet_name='Summer 23')\n",
    "programs_fall23=pd.read_excel(\"Data - Fusion Program Registration (Summer 23 - Summer 24).xlsx\", sheet_name='Fall 23')\n",
    "programs_spring24=pd.read_excel(\"Data - Fusion Program Registration (Summer 23 - Summer 24).xlsx\", sheet_name='Spring 24')\n",
    "programs_summer24=pd.read_excel(\"Data - Fusion Program Registration (Summer 23 - Summer 24).xlsx\", sheet_name='Summer 24')\n",
    "\n",
    "df_program_list = pd.read_csv(\"List of all programs_2024.11.12.csv\")\n",
    "\n",
    "programs_fall22.rename(columns={'Id Number': \"ID_NUMBER\", 'Date/Time Registered': 'Date Registered'}, inplace =True)\n",
    "programs_fall23.rename(columns={'Id Number': \"ID_NUMBER\"}, inplace =True)\n",
    "programs_spring23.rename(columns={'Id Number': \"ID_NUMBER\", 'Date/Time Registered': 'Date Registered'}, inplace =True)\n",
    "programs_spring24.rename(columns={'Id Number': \"ID_NUMBER\"}, inplace =True)\n",
    "programs_summer23.rename(columns={'Id Number': \"ID_NUMBER\"}, inplace =True)\n",
    "programs_summer24.rename(columns={'Id Number': \"ID_NUMBER\"}, inplace =True)\n"
   ]
  },
  {
   "cell_type": "markdown",
   "id": "1fc3b814-b787-44e2-b38c-80d987a80399",
   "metadata": {},
   "source": [
    "# Question 7\n",
    "\n",
    "Lets make our `program_list` and actual `list` of program names to use and filter off of. Due to how `Youth Programs` work and how they're registered, we wont be able to use that data. We'll have to exclude them out of our data set. Make a list without any of the youth programs and save it to a vairbale named `list_of_programs`"
   ]
  },
  {
   "cell_type": "code",
   "execution_count": null,
   "id": "6ef060fa-1238-49ba-b514-4645391f3cce",
   "metadata": {},
   "outputs": [],
   "source": [
    "list_of_programs=df_program_list['Category Name'].unique().tolist()\n",
    "list_of_programs=[x for x in list_of_programs if 'Youth' not in x]\n",
    "list_of_programs"
   ]
  },
  {
   "cell_type": "markdown",
   "id": "b81a6c40-be46-451b-afcb-b37daca20f2f",
   "metadata": {},
   "source": [
    "# Question 8\n",
    "Now, we will make a function to clean our program files (eg `programs_fall22`). We will drop the columns that are listed as exclude in the`Include/Exclude` column in the `programs_list` file. This will be a merge and will be on `Program Name`. Remember to filter the dataframe with `list_of_programs` since the `Youth` programs are marked to `Include` (cannot use the data due to how registration works and the ambiguity of their membership)."
   ]
  },
  {
   "cell_type": "code",
   "execution_count": null,
   "id": "e7a2624e-f85a-461e-8256-9cfbd0006b1d",
   "metadata": {},
   "outputs": [],
   "source": [
    "def cleaning_programs(program_list_df, access_df):\n",
    "    program_list_df.columns = program_list_df.columns.str.strip()\n",
    "    access_df.columns = access_df.columns.str.strip()\n",
    "\n",
    "    merged_df = access_df.merge(\n",
    "        program_list_df[['Program Name', 'Category Name', 'Include/Exclude']],\n",
    "        on='Program Name',\n",
    "        how='left')\n",
    "\n",
    "    merged_df['Category Name_x'] = merged_df['Category Name_y'].fillna(merged_df['Category Name_x'])\n",
    "    merged_df = merged_df.rename(columns = {'Category Name_x': 'Category Name'})\n",
    "    merged_df.drop(columns = ['Category Name_y'], inplace=True)\n",
    "\n",
    "    cleaned_df = merged_df[merged_df['Include/Exclude'] != 'Exclude'].drop(columns=['Include/Exclude'])\n",
    "    cleaned_df = cleaned_df[cleaned_df['Category Name'].isin(list_of_programs)]\n",
    "##################################################\n",
    "    # keep_columns = ['ID_NUMBER', 'Category Name', 'Program Name', 'Date Registered']\n",
    "    \n",
    "    return cleaned_df\n",
    "\n",
    "programs_fall22_cleaned=cleaning_programs(df_program_list, programs_fall22)\n",
    "programs_spring23_cleaned=cleaning_programs(df_program_list, programs_spring23)\n",
    "programs_summer23_cleaned=cleaning_programs(df_program_list, programs_summer23)\n",
    "programs_fall23_cleaned=cleaning_programs(df_program_list, programs_fall23)\n",
    "programs_spring24_cleaned=cleaning_programs(df_program_list, programs_spring24)\n",
    "programs_summer24_cleaned=cleaning_programs(df_program_list, programs_summer24)\n",
    "\n",
    "\n",
    "\n",
    "\n"
   ]
  },
  {
   "cell_type": "markdown",
   "id": "2d064e6e-73ca-4a5f-b217-ca0aa2f3015c",
   "metadata": {},
   "source": [
    "# Question 9\n",
    "\n",
    "We will now be doing very similar data transformations as we did in question 5. \n",
    "\n",
    "We will make user all our dates are in datetime format for comparison\n",
    "\n",
    "We will verify the registration of the date of program within the user's active membership date (Handle the `End_Date` the same as before)\n",
    "\n",
    "We will perform an inner merge from the membership dataframe onto the programs dataframe to find all valid users on `ID_NUMBER`\n",
    "\n",
    "We will groupby `ID_NUMBER`, `Start_Date`, `End_Date`, `Membership_L2`, and `Category Name`. This will then be pivoted again with our columns being `Category Name`\n",
    "\n",
    "We will left merge this pivoted dataframe back onto the membership file on `ID_NUMBER`, `Start_Date`, `End_Date`, and `Membership_L2`.\n",
    "\n",
    "Then drop unnecessary columns created after merging (Dont forget to change the `End_Date` back to being a `NaT`)\n",
    "\n"
   ]
  },
  {
   "cell_type": "code",
   "execution_count": null,
   "id": "cc4b0b37-ced1-4470-a634-6686696a80c6",
   "metadata": {},
   "outputs": [],
   "source": [
    "def registration_counts_by_program(program_df, memberships_df, access_count_col='Access Count'):\n",
    "    memberships_df['Start_Date'] = pd.to_datetime(memberships_df['Start_Date'], format='mixed')\n",
    "    memberships_df['End_Date'] = pd.to_datetime(memberships_df['End_Date'], format='mixed')\n",
    "    program_df['Date Registered'] = pd.to_datetime(program_df['Date Registered'], format='mixed', errors='coerce')\n",
    "    memberships_df['End_Date']=memberships_df['End_Date'].fillna(pd.Timestamp('2262-04-11'))\n",
    "    \n",
    "    program_df.columns=program_df.columns.str.strip()\n",
    "    merged_df = program_df.merge(memberships_df, on='ID_NUMBER', how='inner')\n",
    "    \n",
    "    \n",
    "    valid_access = merged_df[(merged_df['Date Registered']>= merged_df['Start_Date']) &\n",
    "        (merged_df['Date Registered']<= merged_df['End_Date'])]\n",
    "    \n",
    "##########################\n",
    "    \n",
    "    access_counts = valid_access.groupby(['ID_NUMBER','Start_Date', 'End_Date', 'Membership_L2', 'Category Name']).size().reset_index(name=access_count_col)\n",
    "    \n",
    "    pivoted_access_counts = access_counts.pivot_table(\n",
    "        index = ['ID_NUMBER', 'Start_Date', 'End_Date', 'Membership_L2'],\n",
    "        columns = 'Category Name',\n",
    "        values=access_count_col,\n",
    "        fill_value=0).add_suffix(\"_new\").reset_index()\n",
    "    \n",
    "    merged_access_counts = memberships_df.merge(pivoted_access_counts,\n",
    "                                              on=['ID_NUMBER', 'Start_Date', 'End_Date', 'Membership_L2'],\n",
    "                                              how='left').fillna(0)\n",
    "\n",
    " \n",
    "    \n",
    "    program_names = program_df['Category Name'].unique()\n",
    "    # program_names = [name.strip() for name in program_names] \n",
    "    \n",
    "    for col in program_names:\n",
    "        if col in merged_access_counts.columns:\n",
    "            merged_access_counts[col] += merged_access_counts[f\"{col}_new\"]\n",
    "        else:\n",
    "\n",
    "            merged_access_counts[col] = merged_access_counts[f\"{col}_new\"]\n",
    "            \n",
    "            \n",
    "            \n",
    "        merged_access_counts.drop(columns = [f\"{col}_new\"], inplace=True)\n",
    "            \n",
    "    merged_access_counts['End_Date'] = merged_access_counts['End_Date'].replace(pd.Timestamp('2262-04-11'), pd.NaT)\n",
    "\n",
    "    merged_access_counts[program_names]=merged_access_counts[program_names].astype(int)\n",
    "    return merged_access_counts\n",
    "\n",
    "final_df = registration_counts_by_program(programs_fall22_cleaned, new_df)\n",
    "final_df = registration_counts_by_program(programs_spring23_cleaned, final_df)\n",
    "final_df = registration_counts_by_program(programs_summer23_cleaned, final_df)\n",
    "final_df = registration_counts_by_program(programs_fall23_cleaned, final_df)\n",
    "final_df = registration_counts_by_program(programs_spring24_cleaned, final_df)\n",
    "final_df = registration_counts_by_program(programs_summer24_cleaned, final_df)\n",
    "final_df\n",
    "\n",
    "    "
   ]
  },
  {
   "cell_type": "markdown",
   "id": "aa5fda52-c1ad-463a-86d2-6d3dd2380101",
   "metadata": {},
   "source": [
    "# Question 10\n",
    "\n",
    "With our final dataframe created, we can now make visualizations based on the students and their participations in different programs. Before this, we should ensure that our columns are populated using `sum()`. Since many of the users do not participate in these programs, much of the dataframe will appear to be 0. Find the `sum()` of participants in `Outdoor Yoga` and find the number of unique participants in that program as well."
   ]
  },
  {
   "cell_type": "code",
   "execution_count": null,
   "id": "3b45c094-eb27-4598-a9ff-19d49005c9e5",
   "metadata": {},
   "outputs": [],
   "source": [
    "total=final_df['Outdoor Yoga'].sum()\n",
    "counts=len(final_df[final_df['Outdoor Yoga']>0])\n",
    "print('Total: ', total, '\\nUnique: ', counts)"
   ]
  },
  {
   "cell_type": "markdown",
   "id": "a35be5d3-2374-46d3-bf07-04faaca790e6",
   "metadata": {},
   "source": [
    "# Question 11\n",
    "Let's start visualizing the data and answering questions. Plot how many total users there are in each `Membership_L2` as a bar graph and label each bar. Make the `color` for each bar a different color to your choosing. Remember to label the x-axis and y-axis and give it the title `Membership User Totals`. In addition, there is a value called `Student` in this column. This is incorrectly labeled, so change all the values with `Student` with `Student-Other`."
   ]
  },
  {
   "cell_type": "code",
   "execution_count": null,
   "id": "35d1fc1d-a2b9-45ab-87a4-b4ef3bb1d85c",
   "metadata": {},
   "outputs": [],
   "source": [
    "import matplotlib.pyplot as plt\n",
    "def label(x,y):\n",
    "    for i in range(len(x)):\n",
    "        plt.text(i, y[i], str(y[i]), ha='center', fontsize='small')\n",
    "\n",
    "colors = ['k','b','g','r','y','lightblue','teal','pink']\n",
    "\n",
    "final_df.loc[final_df['Membership_L2']=='Student', 'Membership_L2'] = 'Student-Other'\n",
    "y_axis=final_df['Membership_L2'].value_counts()\n",
    "x_axis=y_axis.index\n",
    "ax=y_axis.plot.bar(color=colors)\n",
    "label(x_axis,y_axis)\n",
    "ax.set_xlabel('User Type')\n",
    "ax.set_ylabel(\"Number of Users\")\n",
    "ax.set_title('Membership User Totals')\n"
   ]
  },
  {
   "cell_type": "markdown",
   "id": "a216ef18-5faf-4afe-a75d-30add0f037cc",
   "metadata": {},
   "source": [
    "# Question 12\n",
    "Now, lets view the data for the buildings. Create a plot that shows how many users enter the `Nick`, `Bakke`, and `Nielsen Tennis Stadium` buildings for the date range `09/01/2023` to `05/16/2024`. Add x and y-axis labels and title `Facility Access Fall 23 and Spring 24`."
   ]
  },
  {
   "cell_type": "code",
   "execution_count": null,
   "id": "6f78a775-0e01-491f-b0b6-bbe9b6b206d8",
   "metadata": {},
   "outputs": [],
   "source": [
    "\n",
    "def label(x,y):\n",
    "    for i in range(len(x)):\n",
    "        ax.text(i, y[i]+400, str(y[i]), ha='center', fontsize='small')\n",
    "\n",
    "colors = ['b','g','r','y','lightblue','teal','pink']\n",
    "\n",
    "y_axis=final_df[(final_df['Start_Date'] >= '2023/09/01')&\n",
    "(final_df['Start_Date'] <= '2024/05/16')&\n",
    "(final_df['End_Date'] >= '2023/09/01')&\n",
    "(final_df['End_Date'] <= '2024/05/16')][['Nick', 'Bakke', 'Nielsen Tennis Stadium']].sum()\n",
    "\n",
    "ax=y_axis.plot.bar(color=colors)\n",
    "label(y_axis.index ,y_axis)\n",
    "ax.set_xlabel('Facility')\n",
    "ax.set_ylabel(\"Number of Users\")\n",
    "ax.set_title('Facility Access Fall 23 and Spring 24')\n"
   ]
  },
  {
   "cell_type": "code",
   "execution_count": null,
   "id": "718c6a10-6fd0-43fc-93b2-a530119a8bb8",
   "metadata": {},
   "outputs": [],
   "source": [
    "final_df.info()"
   ]
  },
  {
   "cell_type": "markdown",
   "id": "dc80ff33-f728-458d-9594-b003e9842240",
   "metadata": {},
   "source": [
    "# Question 13\n",
    "Now lets look at the `Tennis Programs`. Rec Well wants to see how many `Community`  and `Undergrad` members they serve in their `Tennis Programs` from the date range `09/01/2023` to `05/16/2024`. Compare these two user types side by side."
   ]
  },
  {
   "cell_type": "code",
   "execution_count": null,
   "id": "93cb08c2-2146-40bd-829a-469755a70297",
   "metadata": {},
   "outputs": [],
   "source": [
    "\n",
    "colors = ['b','g','r','y','lightblue','teal','pink']\n",
    "\n",
    "community=final_df[(final_df['Start_Date'] >= '2023/09/01')&\n",
    "(final_df['Start_Date'] <= '2024/05/16')&\n",
    "(final_df['End_Date'] >= '2023/09/01')&\n",
    "(final_df['End_Date'] <= '2024/05/16')&\n",
    "(final_df['Membership_L2'] == 'Community')]\n",
    "\n",
    "undergrad=final_df[(final_df['Start_Date'] >= '2023/09/01')&\n",
    "(final_df['Start_Date'] <= '2024/05/16')&\n",
    "(final_df['End_Date'] >= '2023/09/01')&\n",
    "(final_df['End_Date'] <= '2024/05/16')&\n",
    "(final_df['Membership_L2'] == 'Undergrad')]\n",
    "\n",
    "total_tennis_community=community['Tennis Programs'].sum()\n",
    "total_tennis_undergrad=undergrad['Tennis Programs'].sum()\n",
    "\n",
    "summed_series = pd.Series([total_tennis_community, total_tennis_undergrad], index=['Community', 'Undergrad'])\n",
    "\n",
    "ax = summed_series.plot.bar( color='green', width=0.3)\n",
    "\n",
    "for i in range(len(summed_series)):\n",
    "    ax.text(i, summed_series[i]+0.1, str(summed_series[i]), ha='center') \n",
    "\n",
    "ax.set_xlabel('User Type')\n",
    "ax.set_ylabel('Participations')\n",
    "ax.set_title('Tennis Program Participations for Community and Undergrad Users')\n",
    "ax.tick_params(axis= 'x', rotation=0)"
   ]
  },
  {
   "cell_type": "markdown",
   "id": "e3ab3bc8-30bd-49ed-8200-098c2e8008d3",
   "metadata": {},
   "source": [
    "# Question 14\n",
    "\n",
    "What is the percent of users that participate in `Nutrition` programs are `Grad` students? What percent of the users are `Undergrad` students? Plot these two percentages together."
   ]
  },
  {
   "cell_type": "code",
   "execution_count": null,
   "id": "45b2ae02-0725-4a2b-84b8-e926d8442a1f",
   "metadata": {},
   "outputs": [],
   "source": [
    "nutrition_grads=final_df[(final_df['Membership_L2'] == 'Grad')&(final_df['Nutrition'] >0)]['Nutrition']\n",
    "nutrition_undergrads=final_df[(final_df['Membership_L2'] == 'Undergrad')&(final_df['Nutrition'] >0)]['Nutrition']\n",
    "nutrition_totals = final_df[final_df['Nutrition'] >0]['Nutrition']\n",
    "\n",
    "percent_grad=(nutrition_grads.sum()/nutrition_totals.sum())*100\n",
    "percent_undergrad=(nutrition_undergrads.sum()/nutrition_totals.sum())*100\n",
    "\n",
    "percentages=pd.Series([percent_grad, percent_undergrad], index=['Grad', 'Undergrad'])\n",
    "\n",
    "ax=percentages.plot.bar(color='purple')\n",
    "\n",
    "for i, percent in enumerate(percentages):\n",
    "    ax.text(i, percent+0.5, f'{percent:.2f}%', ha='center')\n",
    "\n",
    "ax.set_xlabel('User Type')\n",
    "ax.set_ylabel('Percentage')\n",
    "ax.set_title('Grad and Undergrad Participation Percentage in Nutrition Programs')\n",
    "ax.tick_params(axis= 'x', rotation=0)"
   ]
  },
  {
   "cell_type": "markdown",
   "id": "3faf6657-0773-4454-8f7c-6d79845db9f5",
   "metadata": {},
   "source": [
    "# Question 15\n",
    "\n",
    "Rec Well wants to find out how many unique users participate in `Fitness: Group Classes Bakke` compared to `Fitness: Group Classes Nick`. Compare these two on a plot."
   ]
  },
  {
   "cell_type": "code",
   "execution_count": null,
   "id": "7a06ade4-5467-4b6e-bc44-7d0e1ace1532",
   "metadata": {},
   "outputs": [],
   "source": [
    "nick_counts=len(final_df[final_df['Fitness: Group Classes Nick']>0])\n",
    "bakke_counts=len(final_df[final_df['Fitness: Group Classes Bakke']>0])\n",
    "\n",
    "total_counts = pd.Series([nick_counts, bakke_counts], index=['Group Fitness Nick', 'Group Fitness Bakke'])\n",
    "\n",
    "ax=total_counts.plot.bar(color='pink')\n",
    "\n",
    "for i in range(len(total_counts)):\n",
    "    ax.text(i, total_counts[i]+60, str(total_counts[i]), ha='center', fontsize='small')\n",
    "\n",
    "\n",
    "ax.set_xlabel('Class Type')\n",
    "ax.set_ylabel('Participation Numbers')\n",
    "ax.set_title('Group Fitness Class Participations at Nick and Bakke')\n",
    "ax.tick_params(axis= 'x', rotation=0)"
   ]
  },
  {
   "cell_type": "markdown",
   "id": "74e66d74-99d2-4028-986f-8b0c6c6c7d25",
   "metadata": {},
   "source": [
    "# Question 16\n",
    "\n",
    "(Grouped bar graphs)\n",
    "Rec Well wants to figure out how many unique users use both the `Group Fitness Nick` and `Group Fitness Bakke`. Use the visual from question 15 and to compare the three columns together.  "
   ]
  },
  {
   "cell_type": "code",
   "execution_count": null,
   "id": "f209b567-a947-4c73-baed-3d157e4254ec",
   "metadata": {},
   "outputs": [],
   "source": [
    "nick_bakke_counts=len(final_df[(final_df['Fitness: Group Classes Nick']>0)&\n",
    "                      (final_df['Fitness: Group Classes Bakke']>0)])\n",
    "nick_counts=len(final_df[final_df['Fitness: Group Classes Nick']>0])\n",
    "bakke_counts=len(final_df[final_df['Fitness: Group Classes Bakke']>0])\n",
    "\n",
    "total_counts = pd.Series([nick_counts, bakke_counts, nick_bakke_counts], \n",
    "                         index=['Group Fitness Nick', 'Group Fitness Bakke', 'Dual Users'])\n",
    "\n",
    "ax=total_counts.plot.bar(color='pink')\n",
    "\n",
    "for i in range(len(total_counts)):\n",
    "    ax.text(i, total_counts[i]+60, str(total_counts[i]), ha='center', fontsize='small')\n",
    "\n",
    "ax.set_xlabel('Class Type')\n",
    "ax.set_ylabel('Participation Numbers')\n",
    "ax.set_title('Group Fitness Class Participations at Nick and Bakke')\n",
    "ax.tick_params(axis= 'x', rotation=0)"
   ]
  },
  {
   "cell_type": "markdown",
   "id": "acccaa1f-556f-4343-b2f1-67a6bf6fe54e",
   "metadata": {},
   "source": [
    "# Question 17\n",
    "\n",
    "(compare fall 2023 to fall 2024 program data)\n",
    "Rec Well wants to see how many users started in `Fall 2022` and utilized the `Nick` and compare this number to how many started in `Fall 2023`. This number shows the amount of users starting their membership in the fall, which includes new students, recurring students, and any user that registers within the fall for their services. Then, as long as they entered the `Nick` to scan their Wiscard, this graph will capture their swipe. Remember that the date range for Fall 2022 is `08/24/2022` to `12/25/2022` and Fall 2023 is `08/24/2023` to `12/25/2024`. Why does the graph look like this? "
   ]
  },
  {
   "cell_type": "code",
   "execution_count": null,
   "id": "837d39ac-b743-482f-a092-7dfb0b36b511",
   "metadata": {},
   "outputs": [],
   "source": [
    "\n",
    "fall_2022=final_df[(final_df['Start_Date'] >= '2022/08/24')&\n",
    "(final_df['Start_Date'] <= '2022/12/25')]\n",
    "\n",
    "\n",
    "fall_2023=final_df[(final_df['Start_Date'] >= '2023/08/24')&\n",
    "(final_df['Start_Date'] <= '2023/12/25')]\n",
    "\n",
    "\n",
    "\n",
    "totals_fall2022=len(fall_2022[fall_2022['Nick']>0])\n",
    "totals_fall2023=len(fall_2023[fall_2023['Nick']>0])\n",
    "\n",
    "total_counts = pd.Series([totals_fall2022, totals_fall2023], \n",
    "                         index=['Fall 2022', 'Fall 2023'])\n",
    "\n",
    "ax=total_counts.plot.bar(color='brown')\n",
    "\n",
    "for i in range(len(total_counts)):\n",
    "    ax.text(i, total_counts[i]+50, str(total_counts[i]), ha='center', fontsize='small')\n",
    "\n",
    "ax.set_xlabel('Semester')\n",
    "ax.set_ylabel('Registration Numbers')\n",
    "ax.set_title('New Users Registered and Entering the Nick Across Semesters')\n",
    "ax.tick_params(axis= 'x', rotation=0)"
   ]
  },
  {
   "cell_type": "markdown",
   "id": "50510ebc-6996-41bb-b43c-5c954d7d2b56",
   "metadata": {},
   "source": [
    "# Question 18\n",
    "\n",
    "Rec Well wants to check how the `Climbing` program data compares to the `Bakke - Mt. Mendota` field. the `Bakke - Mt. Mendota` is for users tht walk in and go to access the climbing wall while the `Climbing` program displays specific sessions in where users can register to climb with instructors. These two fields are exclusive of each other. If someone registers for the `Climbing` program and uses the wall, they are not counted for that instance of using the `Bakke - Mt. Mendota`. What is the percent of users that participate in the `Climbing` program that use the `Bakke - Mt. Mendota` wall and what percent is that of the `Bakke` population? Remember to get unique users and not the number of participations. \n",
    "\n",
    "The resulting graph shows how many users engaging in the `Climbing` Program and visit the `Bakke - Mt. Mendota` wall. This percentage can be indicative of how effective the program is at retaining users and bringing them back. Or it can also show engagement of regular users entering the programs and helping others try and enter the sport.\n"
   ]
  },
  {
   "cell_type": "code",
   "execution_count": null,
   "id": "37796059-ef20-49c8-91d5-810cf9fc4ddc",
   "metadata": {},
   "outputs": [],
   "source": [
    "mendota=len(final_df[final_df['Bakke - Mt. Mendota']>0]['Bakke - Mt. Mendota'])\n",
    "climbing=len(final_df[final_df['Climbing']>0]['Climbing'])\n",
    "bakke_total = len(final_df[final_df['Bakke'] >0]['Bakke'])\n",
    "\n",
    "percent_mendota=(mendota/bakke_total)*100\n",
    "percent_climbing=(climbing/bakke_total)*100\n",
    "percent_climbing_of_mendota=(climbing/mendota)*100\n",
    "\n",
    "colors = ['gold','gold', 'grey']\n",
    "\n",
    "percentages=pd.Series([percent_mendota,percent_climbing, percent_climbing_of_mendota], \n",
    "                      index=['Bakke - Mt. Mendota', 'Climbing Program', '% of Climbing Program Users in Mt. Mendota' ])\n",
    "\n",
    "ax=percentages.plot.bar(color=colors, figsize=(10,5))\n",
    "\n",
    "for i, percent in enumerate(percentages):\n",
    "    ax.text(i, percent+0.15, f'{percent:.3f}%', ha='center')\n",
    "\n",
    "ax.set_xlabel('Program Type')\n",
    "ax.set_ylabel('Percentage')\n",
    "ax.set_title('Users in Climbing Programs and Mt. Mendota Percentage')\n",
    "ax.tick_params(axis= 'x', rotation=0)"
   ]
  },
  {
   "cell_type": "markdown",
   "id": "1e83cf06-f903-4f71-80df-a147dccf07a2",
   "metadata": {},
   "source": [
    "# Question 19\n",
    "\n",
    "As a whole, view all the programs in a single graph and display the most popular graph in terms of participations and unique users. Do this as a grouped horizontal bar graph. "
   ]
  },
  {
   "cell_type": "code",
   "execution_count": null,
   "id": "6b4d3986-5438-4802-8d26-e3558e5498db",
   "metadata": {},
   "outputs": [],
   "source": [
    "import numpy as np\n",
    "columns=final_df.iloc[:, 18:]\n",
    "\n",
    "category_unique = columns.apply(lambda x: (x > 0).sum())\n",
    "fig, ax = plt.subplots(figsize=(11, 9))\n",
    "column_sums=columns.sum()\n",
    "n = len(category_unique)\n",
    "\n",
    "y_pos = np.arange(n)\n",
    "\n",
    "bar_height = 0.4\n",
    "\n",
    "unique_bar=ax.barh(y_pos - bar_height / 2, category_unique, bar_height, color='lightblue', edgecolor='black', label='Unique Users')\n",
    "participant_bar=ax.barh(y_pos + bar_height / 2, column_sums, bar_height, color='gold', edgecolor='black', label='Participations')\n",
    "\n",
    "for bar in bars1:\n",
    "    ax.text(bar.get_width() + 30, bar.get_y() + bar.get_height() / 2, \n",
    "            f'{bar.get_width():.0f}', va='center', ha='left', fontsize=9) \n",
    "for bar in bars2:\n",
    "    ax.text(bar.get_width() + 30, bar.get_y() + bar.get_height() / 2,\n",
    "            f'{bar.get_width():.0f}', va='center', ha='left', fontsize=9)  \n",
    "ax.set_xlabel('Number of Users')\n",
    "ax.set_ylabel('Program Name')\n",
    "ax.set_title('Users in Climbing Programs and Mt. Mendota Percentage')\n",
    "ax.set_yticks(y_pos)\n",
    "ax.set_yticklabels(category_unique.index)\n",
    "ax.legend()\n"
   ]
  },
  {
   "cell_type": "markdown",
   "id": "27f57cf1-b1b5-48e6-9501-d127c10d05e2",
   "metadata": {},
   "source": [
    "# Question 20\n",
    "`Fitness: Group Classes Nick` contains the most number of users. Find out how many `Community`, `Undergrad`, `Grad`, `Student-Other`, `Campus Affiliate`, `Rec Well Staff`, and `Day/Week Pass` unique users there are"
   ]
  },
  {
   "cell_type": "code",
   "execution_count": null,
   "id": "94d99382-80dc-4517-875a-7b2c20bc4221",
   "metadata": {},
   "outputs": [],
   "source": [
    "\n",
    "final_df.loc[final_df['Membership_L2']=='Student', 'Membership_L2'] = 'Student-Other'\n",
    "fitness_group_nick=final_df[final_df['Fitness: Group Classes Nick']>0]\n",
    "\n",
    "community=len(fitness_group_nick[fitness_group_nick['Membership_L2']=='Community'])\n",
    "undergrad=len(fitness_group_nick[fitness_group_nick['Membership_L2']=='Undergrad'])\n",
    "grad=len(fitness_group_nick[fitness_group_nick['Membership_L2']=='Grad'])\n",
    "other_student=len(fitness_group_nick[fitness_group_nick['Membership_L2']=='Student-Other'])\n",
    "campusaff=len(fitness_group_nick[fitness_group_nick['Membership_L2']=='Campus Affiliate'])\n",
    "recwellstaff=len(fitness_group_nick[fitness_group_nick['Membership_L2']=='Rec Well Staff'])\n",
    "daypass=len(fitness_group_nick[fitness_group_nick['Membership_L2']=='Day/Week Pass'])\n",
    "\n",
    "total_users = pd.Series([community, undergrad, grad, other_student, campusaff, recwellstaff, daypass], \n",
    "                        index=['Community', 'Undergrad', 'Grad', 'Student-Other', 'Campus Affiliate', 'Rec Well Staff', 'Day/Week Pass'])\n",
    "\n",
    "ax=total_users.plot.bar(color='teal')\n",
    "\n",
    "for i in range(len(total_users)):\n",
    "    ax.text(i, total_users[i]+50, str(total_users[i]), ha='center', fontsize='small')\n",
    "\n",
    "ax.set_xlabel('User Types')\n",
    "ax.set_ylabel('Number of Unique Users')\n",
    "ax.set_title('User Types Within Fitness: Group Classes Nick')\n"
   ]
  },
  {
   "cell_type": "code",
   "execution_count": null,
   "id": "a044f972-d225-4ff9-b47c-ba2130bff47b",
   "metadata": {},
   "outputs": [],
   "source": []
  },
  {
   "cell_type": "code",
   "execution_count": null,
   "id": "b8ee28b6-7dd1-4c31-a780-79700ab18882",
   "metadata": {},
   "outputs": [],
   "source": []
  }
 ],
 "metadata": {
  "kernelspec": {
   "display_name": "Python 3 (ipykernel)",
   "language": "python",
   "name": "python3"
  },
  "language_info": {
   "codemirror_mode": {
    "name": "ipython",
    "version": 3
   },
   "file_extension": ".py",
   "mimetype": "text/x-python",
   "name": "python",
   "nbconvert_exporter": "python",
   "pygments_lexer": "ipython3",
   "version": "3.12.4"
  }
 },
 "nbformat": 4,
 "nbformat_minor": 5
}
