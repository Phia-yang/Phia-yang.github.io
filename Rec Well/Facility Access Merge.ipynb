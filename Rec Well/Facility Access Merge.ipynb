{
 "cells": [
  {
   "cell_type": "code",
   "execution_count": null,
   "id": "cde2c94b-d8e0-4833-b785-d1c5d90fcf40",
   "metadata": {},
   "outputs": [],
   "source": [
    "import pandas as pd"
   ]
  },
  {
   "cell_type": "code",
   "execution_count": null,
   "id": "8e01e5e7-db4f-42b0-8d81-7597da754b91",
   "metadata": {},
   "outputs": [],
   "source": [
    "# Query, change dates to match semesters\n",
    "\n",
    "# SELECT ID, CREATION_TIMESTAMP, EXTERNAL_ID_NUMBERS, FIRST_NAME, PREFERRED_NAME, LAST_NAME, GENDER_CV, FACILITY_NAME, MEMBERSHIP_NAME, EMAIL_ADDRESSES, IS_GROUP_ACCESS\n",
    "# FROM T_FACILITY_ACCESS_EVENT_HISTORY\n",
    "# WHERE CREATION_TIMESTAMP>= '20240513 00:00:00.000'\n",
    "#               AND CREATION_TIMESTAMP < '20240825 00:00:00.000'\n",
    "#               AND ACCESS_GRANTED= 'TRUE'"
   ]
  },
  {
   "cell_type": "code",
   "execution_count": null,
   "id": "8166f7ca-c821-4c63-8ca3-0b46e14bed59",
   "metadata": {},
   "outputs": [],
   "source": [
    "#FY24\n",
    "dfaFY24f =pd.read_csv(\"FY24 Fall term (08.28.23-12.24.23).csv\")\n",
    "dfaFY24sp = pd.read_csv(\"FY24 Spring term (12.25.23-05.14.24).csv\")\n",
    "dfaFY24su = pd.read_csv(\"FY24 Summer (05.15.24-08.25.24).csv\")\n",
    "dfsz=pd.read_excel(\"Data - FY24 Facility Access - Sub Zero Ice Rink AccessEventLogReport.xlsx\", usecols = ['ID Number', 'Date/Time'])\n"
   ]
  },
  {
   "cell_type": "code",
   "execution_count": null,
   "id": "30c3603e-1639-4380-a2c0-0b960b160b1b",
   "metadata": {},
   "outputs": [],
   "source": [
    "#FY23\n",
    "dfaFY23f = pd.read_csv(\"FY23 Fall term (08.29.22-12.25.22).csv\")\n",
    "dfaFY23sp = pd.read_csv(\"FY23 Spring term (12.26.22-05.14.23).csv\")\n",
    "dfaFY23su = pd.read_csv(\"FY23 Summer term (05.15.23-08.27.23).csv\")\n",
    "\n"
   ]
  },
  {
   "cell_type": "code",
   "execution_count": null,
   "id": "8b413450-13ad-4861-adeb-e898a4359272",
   "metadata": {},
   "outputs": [],
   "source": [
    "dfaFY24f['FACILITY_NAME'].unique()"
   ]
  },
  {
   "cell_type": "code",
   "execution_count": null,
   "id": "baed6e6a-4e07-4ec4-abe6-419dcc4efd96",
   "metadata": {},
   "outputs": [],
   "source": [
    "# for sub zero access\n",
    "pd.to_datetime(dfsz['Date/Time'], format='%Y-%m-%d %H:%M:%S')\n",
    "dfsz['Date/Time']=dfsz['Date/Time'].dt.strftime('%Y-%m-%d %H:%M:%S')"
   ]
  },
  {
   "cell_type": "code",
   "execution_count": null,
   "id": "7afc42ad-55b4-4afc-9542-c243091c1074",
   "metadata": {},
   "outputs": [],
   "source": [
    "# for sub zero access\n",
    "dfsz = dfsz[['Date/Time', 'ID Number']]\n",
    "dfsz['Facility Name'] = 'Bakke - Subzero Ice Rink'"
   ]
  },
  {
   "cell_type": "code",
   "execution_count": null,
   "id": "270610e8-d706-402b-8d40-433edf60ce36",
   "metadata": {},
   "outputs": [],
   "source": [
    "dfaFY24f=dfaFY24f[[\"CREATION_TIMESTAMP\",\"EXTERNAL_ID_NUMBERS\",\"FACILITY_NAME\",\"GENDER_CV\",\"MEMBERSHIP_NAME\",\"EMAIL_ADDRESSES\"]]\n",
    "dfaFY24sp=dfaFY24sp[[\"CREATION_TIMESTAMP\",\"EXTERNAL_ID_NUMBERS\",\"FACILITY_NAME\",\"GENDER_CV\",\"MEMBERSHIP_NAME\",\"EMAIL_ADDRESSES\"]]\n",
    "dfaFY24su=dfaFY24su[[\"CREATION_TIMESTAMP\",\"EXTERNAL_ID_NUMBERS\",\"FACILITY_NAME\",\"GENDER_CV\",\"MEMBERSHIP_NAME\",\"EMAIL_ADDRESSES\"]]\n"
   ]
  },
  {
   "cell_type": "code",
   "execution_count": null,
   "id": "83264ced-baff-45bc-8fc3-e5ce9b676d32",
   "metadata": {},
   "outputs": [],
   "source": [
    "dfaFY23f = dfaFY23f[[\"CREATION_TIMESTAMP\",\"EXTERNAL_ID_NUMBERS\",\"FACILITY_NAME\",\"GENDER_CV\",\"MEMBERSHIP_NAME\",\"EMAIL_ADDRESSES\"]]\n",
    "dfaFY23sp = dfaFY23sp[[\"CREATION_TIMESTAMP\",\"EXTERNAL_ID_NUMBERS\",\"FACILITY_NAME\",\"GENDER_CV\",\"MEMBERSHIP_NAME\",\"EMAIL_ADDRESSES\"]]\n",
    "dfaFY23su = dfaFY23su[[\"CREATION_TIMESTAMP\",\"EXTERNAL_ID_NUMBERS\",\"FACILITY_NAME\",\"GENDER_CV\",\"MEMBERSHIP_NAME\",\"EMAIL_ADDRESSES\"]]\n"
   ]
  },
  {
   "cell_type": "code",
   "execution_count": null,
   "id": "f99857c4-e089-41d9-bcfc-1ec5b68799c5",
   "metadata": {},
   "outputs": [],
   "source": [
    "def clean_facilities(df, facility_col):\n",
    "    for index, value in df[facility_col].items(): \n",
    "        if value == 'Nicholas Recreation Center':\n",
    "            df.at[index, facility_col] = 'Nick - Welcome Desk'\n",
    "        if value == 'Bakke - Member Services':\n",
    "            df.at[index, facility_col] = 'Bakke - Welcome Desk'\n",
    "        if value == 'Nick - Fitness Tablets':\n",
    "            df.at[index, facility_col] = 'Nick - Welcome Desk'\n",
    "        if 'Nick - Wellbeing Services' in value:\n",
    "            df.at[index, facility_col] = 'Nick - Welcome Desk'\n",
    "\n",
    "\n"
   ]
  },
  {
   "cell_type": "code",
   "execution_count": null,
   "id": "373f9f3c-63ee-47c3-9f1d-12c677e651a1",
   "metadata": {},
   "outputs": [],
   "source": [
    "clean_facilities(dfaFY23f, 'FACILITY_NAME')\n",
    "clean_facilities(dfaFY23sp, 'FACILITY_NAME')\n",
    "clean_facilities(dfaFY23su, 'FACILITY_NAME')\n",
    "clean_facilities(dfaFY24f, 'FACILITY_NAME')\n",
    "clean_facilities(dfaFY24sp, 'FACILITY_NAME')\n",
    "clean_facilities(dfaFY24sp, 'FACILITY_NAME')\n",
    "\n"
   ]
  },
  {
   "cell_type": "code",
   "execution_count": null,
   "id": "538b9979-59bd-4dc7-b432-1e043b9a6ce6",
   "metadata": {},
   "outputs": [],
   "source": [
    "def gendermapping(df, gender_col):\n",
    "    for index, row in df.iterrows():  \n",
    "        if row[gender_col] == \"00000000-0000-0000-0000-000000003023\":\n",
    "            df.at[index, gender_col] = 'Male'\n",
    "        elif row[gender_col] == \"00000000-0000-0000-0000-000000003024\":\n",
    "            df.at[index, gender_col] = 'Female'\n",
    "        elif row[gender_col] == '38de0ef5-b4c7-4866-bc38-049f8f927bf6':\n",
    "            df.at[index, gender_col] = 'Gender not listed'\n",
    "        elif row[gender_col] == '6628ecab-d079-4e95-9da9-ddaf577cf456':\n",
    "            df.at[index, gender_col] = 'Undetermined'\n",
    "        elif row[gender_col] == '8a5b5081-b301-464e-a032-2ef0efd26f2d':\n",
    "            df.at[index, gender_col] = 'Transgender'\n",
    "        elif row[gender_col] == '9c49b559-99ef-4c7c-a43d-106a488335c9':\n",
    "            df.at[index, gender_col] = 'Prefer to not answer'\n",
    "    return df \n",
    "\n",
    "\n",
    "dfaFY24f = gendermapping(dfaFY24f, \"GENDER_CV\")\n",
    "dfaFY24sp = gendermapping(dfaFY24sp, \"GENDER_CV\")\n",
    "dfaFY24su = gendermapping(dfaFY24su, \"GENDER_CV\")\n",
    "\n",
    "dfaFY23f = gendermapping(dfaFY23f, \"GENDER_CV\")\n",
    "dfaFY23sp = gendermapping(dfaFY23sp, \"GENDER_CV\")\n",
    "dfaFY23su = gendermapping(dfaFY23su, \"GENDER_CV\")\n"
   ]
  },
  {
   "cell_type": "code",
   "execution_count": null,
   "id": "c65da41e-cf7d-4e18-af99-50be776042d2",
   "metadata": {},
   "outputs": [],
   "source": [
    "dfaFY24f.to_csv(\"FY24 Facility Access Fall Term.csv\", index=False)\n",
    "dfaFY24sp.to_csv(\"FY24 Facility Access Spring Term.csv\", index=False)\n",
    "dfaFY24su.to_csv(\"FY24 Facility Access Summer Term.csv\", index=False)\n",
    "dfsz.to_csv(\"FY24 Facility Access SubZero IceRink.csv\", index=False)\n",
    "dfaFY23f.to_csv(\"FY23 Facility Access Fall Term.csv\", index =False)\n",
    "dfaFY23sp.to_csv(\"FY23 Facility Access Spring Term.csv\", index =False)\n",
    "dfaFY23su.to_csv(\"FY23 Facility Access Summer Term.csv\", index =False)\n"
   ]
  },
  {
   "cell_type": "code",
   "execution_count": null,
   "id": "47205b5d-38f8-4a8d-91a3-8255685bdafa",
   "metadata": {},
   "outputs": [],
   "source": []
  },
  {
   "cell_type": "code",
   "execution_count": null,
   "id": "10a6c463-69bd-4e92-9e90-bea7e008dfc6",
   "metadata": {},
   "outputs": [],
   "source": []
  }
 ],
 "metadata": {
  "kernelspec": {
   "display_name": "Python 3 (ipykernel)",
   "language": "python",
   "name": "python3"
  },
  "language_info": {
   "codemirror_mode": {
    "name": "ipython",
    "version": 3
   },
   "file_extension": ".py",
   "mimetype": "text/x-python",
   "name": "python",
   "nbconvert_exporter": "python",
   "pygments_lexer": "ipython3",
   "version": "3.12.4"
  }
 },
 "nbformat": 4,
 "nbformat_minor": 5
}
