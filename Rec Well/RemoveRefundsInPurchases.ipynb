{
 "cells": [
  {
   "cell_type": "code",
   "execution_count": 14,
   "id": "5ca86f47-159b-4bd4-9e35-3aac09879e82",
   "metadata": {},
   "outputs": [],
   "source": [
    "import pandas as pd\n",
    "# File serves to read data from the purchases query and clean it. "
   ]
  },
  {
   "cell_type": "code",
   "execution_count": 16,
   "id": "258d1713-6067-45aa-8e6a-1cec2b7b2f56",
   "metadata": {},
   "outputs": [],
   "source": [
    "df_p23 = pd.read_csv(\"FY23 Purchases.csv\")\n",
    "df_p24 = pd.read_csv(\"FY24 Purchases.csv\")"
   ]
  },
  {
   "cell_type": "code",
   "execution_count": 18,
   "id": "b241b7c6-ca7c-42dc-8174-3c70dac76e6a",
   "metadata": {},
   "outputs": [
    {
     "name": "stdout",
     "output_type": "stream",
     "text": [
      "<class 'pandas.core.frame.DataFrame'>\n",
      "RangeIndex: 81481 entries, 0 to 81480\n",
      "Data columns (total 12 columns):\n",
      " #   Column        Non-Null Count  Dtype  \n",
      "---  ------        --------------  -----  \n",
      " 0   ComputerID    69211 non-null  object \n",
      " 1   ComputerName  69211 non-null  object \n",
      " 2   PurchaseDate  81481 non-null  object \n",
      " 3   Email         61980 non-null  object \n",
      " 4   FIRST_NAME    62046 non-null  object \n",
      " 5   LAST_NAME     62044 non-null  object \n",
      " 6   ID_NUMBER     62046 non-null  object \n",
      " 7   PRODUCT_NAME  81481 non-null  object \n",
      " 8   QUANTITY      81481 non-null  int64  \n",
      " 9   UNIT_PRICE    81481 non-null  float64\n",
      " 10  ID            81481 non-null  object \n",
      " 11  PRODUCT_ID    81481 non-null  object \n",
      "dtypes: float64(1), int64(1), object(10)\n",
      "memory usage: 7.5+ MB\n"
     ]
    }
   ],
   "source": [
    "df_p23.info()"
   ]
  },
  {
   "cell_type": "code",
   "execution_count": 20,
   "id": "a5e79bff-e8bf-44c5-9c6e-88a69c5486c1",
   "metadata": {},
   "outputs": [],
   "source": [
    "# Finds the index of all the entries where the quantity is negative (i.e. a refund)\n",
    "# then matches that product ID and email (since some entries do no have ID_NUMBER)\n",
    "# then drops both the refund row and the purchase that was associated with the refund\n",
    "def drop_pairs(df):\n",
    "    negatives = df[\"QUANTITY\"] < 0\n",
    "    refund_indexes = df[negatives].index\n",
    "    indexes_to_drop = set(refund_indexes)\n",
    "\n",
    "    for index in refund_indexes:\n",
    "        product_id = df.at[index, \"PRODUCT_ID\"]\n",
    "        email = df.at[index, \"Email\"]\n",
    "        matching_purchase = df[(df[\"PRODUCT_ID\"] == product_id) & \n",
    "                               (df[\"Email\"] == email) & \n",
    "                               (df[\"QUANTITY\"] > 0)]\n",
    "        \n",
    "        # If a matching purchase exists, add its index to the drop set\n",
    "        if not matching_purchase.empty:\n",
    "            purchase_index = matching_purchase.index[0]\n",
    "            indexes_to_drop.add(purchase_index)\n",
    "    df_dropped = df.drop(indexes_to_drop)\n",
    "    return df_dropped\n",
    "\n",
    "\n",
    "df1 = drop_pairs(df_p23)\n",
    "df2 = drop_pairs(df_p24)\n"
   ]
  },
  {
   "cell_type": "code",
   "execution_count": 21,
   "id": "f3901058-a957-4328-a5d2-55272d560850",
   "metadata": {},
   "outputs": [
    {
     "name": "stdout",
     "output_type": "stream",
     "text": [
      "<class 'pandas.core.frame.DataFrame'>\n",
      "Index: 77745 entries, 0 to 81480\n",
      "Data columns (total 12 columns):\n",
      " #   Column        Non-Null Count  Dtype  \n",
      "---  ------        --------------  -----  \n",
      " 0   ComputerID    66185 non-null  object \n",
      " 1   ComputerName  66185 non-null  object \n",
      " 2   PurchaseDate  77745 non-null  object \n",
      " 3   Email         58323 non-null  object \n",
      " 4   FIRST_NAME    58388 non-null  object \n",
      " 5   LAST_NAME     58386 non-null  object \n",
      " 6   ID_NUMBER     58388 non-null  object \n",
      " 7   PRODUCT_NAME  77745 non-null  object \n",
      " 8   QUANTITY      77745 non-null  int64  \n",
      " 9   UNIT_PRICE    77745 non-null  float64\n",
      " 10  ID            77745 non-null  object \n",
      " 11  PRODUCT_ID    77745 non-null  object \n",
      "dtypes: float64(1), int64(1), object(10)\n",
      "memory usage: 7.7+ MB\n"
     ]
    }
   ],
   "source": [
    "df1.info()"
   ]
  },
  {
   "cell_type": "code",
   "execution_count": 24,
   "id": "a0c2fe36-7b05-4c15-8638-718a99657db8",
   "metadata": {},
   "outputs": [
    {
     "name": "stdout",
     "output_type": "stream",
     "text": [
      "2305\n"
     ]
    }
   ],
   "source": [
    "refunds=(df_p23[\"QUANTITY\"]<0).sum()\n",
    "print(refunds) # number of refunds in the dataframe\n"
   ]
  },
  {
   "cell_type": "code",
   "execution_count": 26,
   "id": "bb08115c-8e98-4a13-b117-17365f76ab0d",
   "metadata": {},
   "outputs": [
    {
     "data": {
      "text/plain": [
       "3736"
      ]
     },
     "execution_count": 26,
     "metadata": {},
     "output_type": "execute_result"
    }
   ],
   "source": [
    "total_removed = len(df_p23)-len(df1)\n",
    "total_removed #number of removed refunds and their respective purchases"
   ]
  },
  {
   "cell_type": "code",
   "execution_count": 28,
   "id": "7380cac1-400f-40ba-8664-756955f76c9e",
   "metadata": {},
   "outputs": [
    {
     "data": {
      "text/plain": [
       "874"
      ]
     },
     "execution_count": 28,
     "metadata": {},
     "output_type": "execute_result"
    }
   ],
   "source": [
    "missed_transactions = (refunds*2)-total_removed \n",
    "missed_transactions              \n",
    "\n",
    "# calculating the number of transactions that did not \n",
    "# have their purchase pair removed\n",
    "\n",
    "# these transactions are missed because the purchase \n",
    "# happened before the specified query date\n",
    "\n",
    "#DROP ALL THE REFUNDS ANYWAYS. WAS NOT SOLD IN THIS TIME PERIOD."
   ]
  },
  {
   "cell_type": "code",
   "execution_count": 30,
   "id": "e5943dbd-3aae-44f0-b4ea-8d88f5241d34",
   "metadata": {},
   "outputs": [
    {
     "name": "stdout",
     "output_type": "stream",
     "text": [
      "66185 In-person purchases\n",
      " 11560 Online Purchases\n"
     ]
    }
   ],
   "source": [
    "#A check to of the function\n",
    "total_online_purchases = len(df1)-df1[\"ComputerID\"].count()\n",
    "total_online_purchases\n",
    "total_inperson_purchases = len(df1)-total_online_purchases\n",
    "print(total_inperson_purchases, \"In-person purchases\\n\", total_online_purchases, \"Online Purchases\")"
   ]
  },
  {
   "cell_type": "code",
   "execution_count": 34,
   "id": "3bc60ce2-956b-46a8-b85e-c157c743b08e",
   "metadata": {},
   "outputs": [],
   "source": [
    "# saves only the required columns needed \n",
    "df1=df1[['ComputerName', 'PurchaseDate', 'ID_NUMBER','PRODUCT_NAME', 'QUANTITY', 'UNIT_PRICE']]\n",
    "df2=df2[['ComputerName', 'PurchaseDate', 'ID_NUMBER','PRODUCT_NAME', 'QUANTITY', 'UNIT_PRICE']]\n",
    "# FIlls in empty computer names with 'Online Purchase' since they were conducted online. \n",
    "df1['ComputerName'] = df1['ComputerName'].fillna(\"Online Purchase\")\n",
    "df2['ComputerName'] = df2['ComputerName'].fillna(\"Online Purchase\")\n"
   ]
  },
  {
   "cell_type": "code",
   "execution_count": 38,
   "id": "9e75ee7d-60f4-42ab-ad2a-41cf7fb182d3",
   "metadata": {},
   "outputs": [],
   "source": [
    "df1.to_csv(\"Filtered_Cleaned FY23 Purchases.csv\", index=False)\n",
    "df2.to_csv(\"Filtered_Cleaned FY24 Purchases.csv\", index=False)"
   ]
  },
  {
   "cell_type": "code",
   "execution_count": null,
   "id": "393f587f-1201-48d8-9c69-b7f75c9acf91",
   "metadata": {},
   "outputs": [],
   "source": []
  }
 ],
 "metadata": {
  "kernelspec": {
   "display_name": "Python 3 (ipykernel)",
   "language": "python",
   "name": "python3"
  },
  "language_info": {
   "codemirror_mode": {
    "name": "ipython",
    "version": 3
   },
   "file_extension": ".py",
   "mimetype": "text/x-python",
   "name": "python",
   "nbconvert_exporter": "python",
   "pygments_lexer": "ipython3",
   "version": "3.12.4"
  }
 },
 "nbformat": 4,
 "nbformat_minor": 5
}
